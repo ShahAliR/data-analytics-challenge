{
 "cells": [
  {
   "cell_type": "code",
   "execution_count": 78,
   "id": "6c5b69e7",
   "metadata": {},
   "outputs": [],
   "source": [
    "# add packages\n",
    "#Standard\n",
    "import numpy as np\n",
    "import pandas as pd\n",
    "from time import time\n",
    "import seaborn as sns \n",
    "%matplotlib inline\n",
    "import matplotlib.pyplot as plt\n",
    " \n",
    "#Outlier Detection\n",
    "from sklearn.ensemble import IsolationForest\n",
    "\n",
    "#Normalization\n",
    "from sklearn.preprocessing import MinMaxScaler, StandardScaler\n",
    "from sklearn.preprocessing import OneHotEncoder\n",
    "from sklearn.metrics import r2_score\n",
    "#Model Selection\n",
    "from sklearn import linear_model\n",
    "from sklearn.model_selection import train_test_split\n",
    "from sklearn.pipeline import make_pipeline\n",
    "from sklearn.model_selection import cross_val_score\n",
    "from sklearn.model_selection import GridSearchCV\n",
    "from sklearn.linear_model import LinearRegression\n",
    "from sklearn.linear_model import SGDRegressor\n",
    "from sklearn.linear_model import ElasticNet\n",
    "from sklearn.ensemble import AdaBoostRegressor\n",
    "from sklearn.ensemble import RandomForestRegressor\n",
    "from sklearn.tree import DecisionTreeRegressor\n",
    "from sklearn.neighbors import KNeighborsRegressor\n",
    "import warnings\n",
    "warnings.filterwarnings('ignore')\n"
   ]
  },
  {
   "cell_type": "code",
   "execution_count": 79,
   "id": "c8628256",
   "metadata": {},
   "outputs": [],
   "source": [
    "# read data\n",
    "data = pd.read_csv('measurements.csv')"
   ]
  },
  {
   "cell_type": "code",
   "execution_count": 80,
   "id": "02f90b17",
   "metadata": {},
   "outputs": [
    {
     "data": {
      "text/html": [
       "<div>\n",
       "<style scoped>\n",
       "    .dataframe tbody tr th:only-of-type {\n",
       "        vertical-align: middle;\n",
       "    }\n",
       "\n",
       "    .dataframe tbody tr th {\n",
       "        vertical-align: top;\n",
       "    }\n",
       "\n",
       "    .dataframe thead th {\n",
       "        text-align: right;\n",
       "    }\n",
       "</style>\n",
       "<table border=\"1\" class=\"dataframe\">\n",
       "  <thead>\n",
       "    <tr style=\"text-align: right;\">\n",
       "      <th></th>\n",
       "      <th>distance</th>\n",
       "      <th>consume</th>\n",
       "      <th>speed</th>\n",
       "      <th>temp_inside</th>\n",
       "      <th>temp_outside</th>\n",
       "      <th>specials</th>\n",
       "      <th>gas_type</th>\n",
       "      <th>AC</th>\n",
       "      <th>rain</th>\n",
       "      <th>sun</th>\n",
       "      <th>refill liters</th>\n",
       "      <th>refill gas</th>\n",
       "    </tr>\n",
       "  </thead>\n",
       "  <tbody>\n",
       "    <tr>\n",
       "      <th>0</th>\n",
       "      <td>28</td>\n",
       "      <td>5</td>\n",
       "      <td>26</td>\n",
       "      <td>21,5</td>\n",
       "      <td>12</td>\n",
       "      <td>NaN</td>\n",
       "      <td>E10</td>\n",
       "      <td>0</td>\n",
       "      <td>0</td>\n",
       "      <td>0</td>\n",
       "      <td>45</td>\n",
       "      <td>E10</td>\n",
       "    </tr>\n",
       "    <tr>\n",
       "      <th>1</th>\n",
       "      <td>12</td>\n",
       "      <td>4,2</td>\n",
       "      <td>30</td>\n",
       "      <td>21,5</td>\n",
       "      <td>13</td>\n",
       "      <td>NaN</td>\n",
       "      <td>E10</td>\n",
       "      <td>0</td>\n",
       "      <td>0</td>\n",
       "      <td>0</td>\n",
       "      <td>NaN</td>\n",
       "      <td>NaN</td>\n",
       "    </tr>\n",
       "    <tr>\n",
       "      <th>2</th>\n",
       "      <td>11,2</td>\n",
       "      <td>5,5</td>\n",
       "      <td>38</td>\n",
       "      <td>21,5</td>\n",
       "      <td>15</td>\n",
       "      <td>NaN</td>\n",
       "      <td>E10</td>\n",
       "      <td>0</td>\n",
       "      <td>0</td>\n",
       "      <td>0</td>\n",
       "      <td>NaN</td>\n",
       "      <td>NaN</td>\n",
       "    </tr>\n",
       "    <tr>\n",
       "      <th>3</th>\n",
       "      <td>12,9</td>\n",
       "      <td>3,9</td>\n",
       "      <td>36</td>\n",
       "      <td>21,5</td>\n",
       "      <td>14</td>\n",
       "      <td>NaN</td>\n",
       "      <td>E10</td>\n",
       "      <td>0</td>\n",
       "      <td>0</td>\n",
       "      <td>0</td>\n",
       "      <td>NaN</td>\n",
       "      <td>NaN</td>\n",
       "    </tr>\n",
       "    <tr>\n",
       "      <th>4</th>\n",
       "      <td>18,5</td>\n",
       "      <td>4,5</td>\n",
       "      <td>46</td>\n",
       "      <td>21,5</td>\n",
       "      <td>15</td>\n",
       "      <td>NaN</td>\n",
       "      <td>E10</td>\n",
       "      <td>0</td>\n",
       "      <td>0</td>\n",
       "      <td>0</td>\n",
       "      <td>NaN</td>\n",
       "      <td>NaN</td>\n",
       "    </tr>\n",
       "  </tbody>\n",
       "</table>\n",
       "</div>"
      ],
      "text/plain": [
       "  distance consume  speed temp_inside  temp_outside specials gas_type  AC  \\\n",
       "0       28       5     26        21,5            12      NaN      E10   0   \n",
       "1       12     4,2     30        21,5            13      NaN      E10   0   \n",
       "2     11,2     5,5     38        21,5            15      NaN      E10   0   \n",
       "3     12,9     3,9     36        21,5            14      NaN      E10   0   \n",
       "4     18,5     4,5     46        21,5            15      NaN      E10   0   \n",
       "\n",
       "   rain  sun refill liters refill gas  \n",
       "0     0    0            45        E10  \n",
       "1     0    0           NaN        NaN  \n",
       "2     0    0           NaN        NaN  \n",
       "3     0    0           NaN        NaN  \n",
       "4     0    0           NaN        NaN  "
      ]
     },
     "execution_count": 80,
     "metadata": {},
     "output_type": "execute_result"
    }
   ],
   "source": [
    "#display data\n",
    "data.head()"
   ]
  },
  {
   "cell_type": "code",
   "execution_count": 81,
   "id": "d993b3ac",
   "metadata": {},
   "outputs": [
    {
     "data": {
      "text/plain": [
       "distance         0.000000\n",
       "consume          0.000000\n",
       "speed            0.000000\n",
       "temp_outside     0.000000\n",
       "gas_type         0.000000\n",
       "AC               0.000000\n",
       "rain             0.000000\n",
       "sun              0.000000\n",
       "temp_inside      0.030928\n",
       "specials         0.760309\n",
       "refill liters    0.966495\n",
       "refill gas       0.966495\n",
       "dtype: float64"
      ]
     },
     "execution_count": 81,
     "metadata": {},
     "output_type": "execute_result"
    }
   ],
   "source": [
    "#NaN-value\n",
    "(data.isna().sum()/len(data)).sort_values()"
   ]
  },
  {
   "cell_type": "code",
   "execution_count": 82,
   "id": "3a7316d9",
   "metadata": {},
   "outputs": [],
   "source": [
    "#read data from excel\n",
    "df = pd.read_excel(r'measurements2.xlsx')\n",
    " "
   ]
  },
  {
   "cell_type": "code",
   "execution_count": 83,
   "id": "f5b35818",
   "metadata": {},
   "outputs": [
    {
     "data": {
      "text/html": [
       "<div>\n",
       "<style scoped>\n",
       "    .dataframe tbody tr th:only-of-type {\n",
       "        vertical-align: middle;\n",
       "    }\n",
       "\n",
       "    .dataframe tbody tr th {\n",
       "        vertical-align: top;\n",
       "    }\n",
       "\n",
       "    .dataframe thead th {\n",
       "        text-align: right;\n",
       "    }\n",
       "</style>\n",
       "<table border=\"1\" class=\"dataframe\">\n",
       "  <thead>\n",
       "    <tr style=\"text-align: right;\">\n",
       "      <th></th>\n",
       "      <th>distance</th>\n",
       "      <th>consume</th>\n",
       "      <th>speed</th>\n",
       "      <th>temp_inside</th>\n",
       "      <th>temp_outside</th>\n",
       "      <th>specials</th>\n",
       "      <th>gas_type</th>\n",
       "      <th>AC</th>\n",
       "      <th>rain</th>\n",
       "      <th>sun</th>\n",
       "      <th>refill liters</th>\n",
       "      <th>refill gas</th>\n",
       "    </tr>\n",
       "  </thead>\n",
       "  <tbody>\n",
       "    <tr>\n",
       "      <th>383</th>\n",
       "      <td>16.0</td>\n",
       "      <td>3.7</td>\n",
       "      <td>39</td>\n",
       "      <td>24.5</td>\n",
       "      <td>18</td>\n",
       "      <td>NaN</td>\n",
       "      <td>SP98</td>\n",
       "      <td>0</td>\n",
       "      <td>0</td>\n",
       "      <td>0</td>\n",
       "      <td>NaN</td>\n",
       "      <td>NaN</td>\n",
       "    </tr>\n",
       "    <tr>\n",
       "      <th>384</th>\n",
       "      <td>16.1</td>\n",
       "      <td>4.3</td>\n",
       "      <td>38</td>\n",
       "      <td>25.0</td>\n",
       "      <td>31</td>\n",
       "      <td>AC</td>\n",
       "      <td>SP98</td>\n",
       "      <td>1</td>\n",
       "      <td>0</td>\n",
       "      <td>0</td>\n",
       "      <td>NaN</td>\n",
       "      <td>NaN</td>\n",
       "    </tr>\n",
       "    <tr>\n",
       "      <th>385</th>\n",
       "      <td>16.0</td>\n",
       "      <td>3.8</td>\n",
       "      <td>45</td>\n",
       "      <td>25.0</td>\n",
       "      <td>19</td>\n",
       "      <td>NaN</td>\n",
       "      <td>SP98</td>\n",
       "      <td>0</td>\n",
       "      <td>0</td>\n",
       "      <td>0</td>\n",
       "      <td>NaN</td>\n",
       "      <td>NaN</td>\n",
       "    </tr>\n",
       "    <tr>\n",
       "      <th>386</th>\n",
       "      <td>15.4</td>\n",
       "      <td>4.6</td>\n",
       "      <td>42</td>\n",
       "      <td>25.0</td>\n",
       "      <td>31</td>\n",
       "      <td>AC</td>\n",
       "      <td>SP98</td>\n",
       "      <td>1</td>\n",
       "      <td>0</td>\n",
       "      <td>0</td>\n",
       "      <td>NaN</td>\n",
       "      <td>NaN</td>\n",
       "    </tr>\n",
       "    <tr>\n",
       "      <th>387</th>\n",
       "      <td>14.7</td>\n",
       "      <td>5.0</td>\n",
       "      <td>25</td>\n",
       "      <td>25.0</td>\n",
       "      <td>30</td>\n",
       "      <td>AC</td>\n",
       "      <td>SP98</td>\n",
       "      <td>1</td>\n",
       "      <td>0</td>\n",
       "      <td>0</td>\n",
       "      <td>NaN</td>\n",
       "      <td>NaN</td>\n",
       "    </tr>\n",
       "  </tbody>\n",
       "</table>\n",
       "</div>"
      ],
      "text/plain": [
       "     distance  consume  speed  temp_inside  temp_outside specials gas_type  \\\n",
       "383      16.0      3.7     39         24.5            18      NaN     SP98   \n",
       "384      16.1      4.3     38         25.0            31       AC     SP98   \n",
       "385      16.0      3.8     45         25.0            19      NaN     SP98   \n",
       "386      15.4      4.6     42         25.0            31       AC     SP98   \n",
       "387      14.7      5.0     25         25.0            30       AC     SP98   \n",
       "\n",
       "     AC  rain  sun  refill liters refill gas  \n",
       "383   0     0    0            NaN        NaN  \n",
       "384   1     0    0            NaN        NaN  \n",
       "385   0     0    0            NaN        NaN  \n",
       "386   1     0    0            NaN        NaN  \n",
       "387   1     0    0            NaN        NaN  "
      ]
     },
     "execution_count": 83,
     "metadata": {},
     "output_type": "execute_result"
    }
   ],
   "source": [
    "df.tail()"
   ]
  },
  {
   "cell_type": "code",
   "execution_count": 84,
   "id": "9e909f66",
   "metadata": {},
   "outputs": [
    {
     "data": {
      "text/plain": [
       "distance         0.000000\n",
       "consume          0.000000\n",
       "speed            0.000000\n",
       "temp_outside     0.000000\n",
       "gas_type         0.000000\n",
       "AC               0.000000\n",
       "rain             0.000000\n",
       "sun              0.000000\n",
       "temp_inside      0.030928\n",
       "specials         0.760309\n",
       "refill liters    0.966495\n",
       "refill gas       0.966495\n",
       "dtype: float64"
      ]
     },
     "execution_count": 84,
     "metadata": {},
     "output_type": "execute_result"
    }
   ],
   "source": [
    "# two dataset are simillar\n",
    "(df.isna().sum()/len(df)).sort_values()"
   ]
  },
  {
   "cell_type": "code",
   "execution_count": 85,
   "id": "cdfb2555",
   "metadata": {},
   "outputs": [
    {
     "name": "stdout",
     "output_type": "stream",
     "text": [
      "<class 'pandas.core.frame.DataFrame'>\n",
      "RangeIndex: 388 entries, 0 to 387\n",
      "Data columns (total 12 columns):\n",
      " #   Column         Non-Null Count  Dtype  \n",
      "---  ------         --------------  -----  \n",
      " 0   distance       388 non-null    float64\n",
      " 1   consume        388 non-null    float64\n",
      " 2   speed          388 non-null    int64  \n",
      " 3   temp_inside    376 non-null    float64\n",
      " 4   temp_outside   388 non-null    int64  \n",
      " 5   specials       93 non-null     object \n",
      " 6   gas_type       388 non-null    object \n",
      " 7   AC             388 non-null    int64  \n",
      " 8   rain           388 non-null    int64  \n",
      " 9   sun            388 non-null    int64  \n",
      " 10  refill liters  13 non-null     float64\n",
      " 11  refill gas     13 non-null     object \n",
      "dtypes: float64(4), int64(5), object(3)\n",
      "memory usage: 36.5+ KB\n",
      "None\n"
     ]
    }
   ],
   "source": [
    "# To explore the column types \n",
    "print(df.info())"
   ]
  },
  {
   "cell_type": "code",
   "execution_count": 86,
   "id": "4801eb3e",
   "metadata": {},
   "outputs": [],
   "source": [
    "# changing column types to proper type\n",
    "df['distance'] = df['distance'].replace(',','.').astype('float32')\n",
    "df['consume'] = df['consume'].replace(',','.').astype('float32')\n",
    "df['temp_inside'] = df['temp_inside'].replace(',','.').astype('float32')\n",
    "df['refill liters'] = df['refill liters'].replace(',','.').astype('float32')\n"
   ]
  },
  {
   "cell_type": "code",
   "execution_count": 87,
   "id": "b205fec1",
   "metadata": {},
   "outputs": [
    {
     "name": "stdout",
     "output_type": "stream",
     "text": [
      "<class 'pandas.core.frame.DataFrame'>\n",
      "RangeIndex: 388 entries, 0 to 387\n",
      "Data columns (total 12 columns):\n",
      " #   Column         Non-Null Count  Dtype  \n",
      "---  ------         --------------  -----  \n",
      " 0   distance       388 non-null    float32\n",
      " 1   consume        388 non-null    float32\n",
      " 2   speed          388 non-null    int64  \n",
      " 3   temp_inside    376 non-null    float32\n",
      " 4   temp_outside   388 non-null    int64  \n",
      " 5   specials       93 non-null     object \n",
      " 6   gas_type       388 non-null    object \n",
      " 7   AC             388 non-null    int64  \n",
      " 8   rain           388 non-null    int64  \n",
      " 9   sun            388 non-null    int64  \n",
      " 10  refill liters  13 non-null     float32\n",
      " 11  refill gas     13 non-null     object \n",
      "dtypes: float32(4), int64(5), object(3)\n",
      "memory usage: 30.4+ KB\n"
     ]
    }
   ],
   "source": [
    "#Double Check\n",
    "df.info()"
   ]
  },
  {
   "cell_type": "markdown",
   "id": "1444231c",
   "metadata": {},
   "source": [
    "# control catecorical values "
   ]
  },
  {
   "cell_type": "code",
   "execution_count": 88,
   "id": "03183932",
   "metadata": {},
   "outputs": [
    {
     "data": {
      "text/plain": [
       "rain                  32\n",
       "sun                   27\n",
       "AC rain                9\n",
       "ac                     8\n",
       "AC                     6\n",
       "snow                   3\n",
       "sun ac                 3\n",
       "AC snow                1\n",
       "half rain half sun     1\n",
       "AC sun                 1\n",
       "AC Sun                 1\n",
       "ac rain                1\n",
       "Name: specials, dtype: int64"
      ]
     },
     "execution_count": 88,
     "metadata": {},
     "output_type": "execute_result"
    }
   ],
   "source": [
    "#Decreased unique values to most important classes for scaling\n",
    "\n",
    "df['specials']. value_counts()"
   ]
  },
  {
   "cell_type": "code",
   "execution_count": 89,
   "id": "4e4cd0b6",
   "metadata": {},
   "outputs": [],
   "source": [
    "#changing capital letter to lowercase in order to be consistent\n",
    "df['specials']=df['specials'].str.lower()"
   ]
  },
  {
   "cell_type": "code",
   "execution_count": 90,
   "id": "d9610a37",
   "metadata": {},
   "outputs": [
    {
     "data": {
      "text/plain": [
       "rain                  32\n",
       "sun                   27\n",
       "ac                    14\n",
       "ac rain               10\n",
       "snow                   3\n",
       "sun ac                 3\n",
       "ac sun                 2\n",
       "ac snow                1\n",
       "half rain half sun     1\n",
       "Name: specials, dtype: int64"
      ]
     },
     "execution_count": 90,
     "metadata": {},
     "output_type": "execute_result"
    }
   ],
   "source": [
    "df['specials']. value_counts()"
   ]
  },
  {
   "cell_type": "code",
   "execution_count": 92,
   "id": "1433e477",
   "metadata": {},
   "outputs": [
    {
     "data": {
      "text/html": [
       "<div>\n",
       "<style scoped>\n",
       "    .dataframe tbody tr th:only-of-type {\n",
       "        vertical-align: middle;\n",
       "    }\n",
       "\n",
       "    .dataframe tbody tr th {\n",
       "        vertical-align: top;\n",
       "    }\n",
       "\n",
       "    .dataframe thead th {\n",
       "        text-align: right;\n",
       "    }\n",
       "</style>\n",
       "<table border=\"1\" class=\"dataframe\">\n",
       "  <thead>\n",
       "    <tr style=\"text-align: right;\">\n",
       "      <th></th>\n",
       "      <th>distance</th>\n",
       "      <th>consume</th>\n",
       "      <th>speed</th>\n",
       "      <th>temp_inside</th>\n",
       "      <th>temp_outside</th>\n",
       "      <th>specials</th>\n",
       "      <th>gas_type</th>\n",
       "      <th>AC</th>\n",
       "      <th>rain</th>\n",
       "      <th>sun</th>\n",
       "      <th>refill liters</th>\n",
       "      <th>refill gas</th>\n",
       "    </tr>\n",
       "  </thead>\n",
       "  <tbody>\n",
       "    <tr>\n",
       "      <th>383</th>\n",
       "      <td>16.0</td>\n",
       "      <td>3.7</td>\n",
       "      <td>39</td>\n",
       "      <td>24.5</td>\n",
       "      <td>18</td>\n",
       "      <td>NaN</td>\n",
       "      <td>SP98</td>\n",
       "      <td>0</td>\n",
       "      <td>0</td>\n",
       "      <td>0</td>\n",
       "      <td>NaN</td>\n",
       "      <td>NaN</td>\n",
       "    </tr>\n",
       "    <tr>\n",
       "      <th>384</th>\n",
       "      <td>16.1</td>\n",
       "      <td>4.3</td>\n",
       "      <td>38</td>\n",
       "      <td>25.0</td>\n",
       "      <td>31</td>\n",
       "      <td>others</td>\n",
       "      <td>SP98</td>\n",
       "      <td>1</td>\n",
       "      <td>0</td>\n",
       "      <td>0</td>\n",
       "      <td>NaN</td>\n",
       "      <td>NaN</td>\n",
       "    </tr>\n",
       "    <tr>\n",
       "      <th>385</th>\n",
       "      <td>16.0</td>\n",
       "      <td>3.8</td>\n",
       "      <td>45</td>\n",
       "      <td>25.0</td>\n",
       "      <td>19</td>\n",
       "      <td>NaN</td>\n",
       "      <td>SP98</td>\n",
       "      <td>0</td>\n",
       "      <td>0</td>\n",
       "      <td>0</td>\n",
       "      <td>NaN</td>\n",
       "      <td>NaN</td>\n",
       "    </tr>\n",
       "    <tr>\n",
       "      <th>386</th>\n",
       "      <td>15.4</td>\n",
       "      <td>4.6</td>\n",
       "      <td>42</td>\n",
       "      <td>25.0</td>\n",
       "      <td>31</td>\n",
       "      <td>others</td>\n",
       "      <td>SP98</td>\n",
       "      <td>1</td>\n",
       "      <td>0</td>\n",
       "      <td>0</td>\n",
       "      <td>NaN</td>\n",
       "      <td>NaN</td>\n",
       "    </tr>\n",
       "    <tr>\n",
       "      <th>387</th>\n",
       "      <td>14.7</td>\n",
       "      <td>5.0</td>\n",
       "      <td>25</td>\n",
       "      <td>25.0</td>\n",
       "      <td>30</td>\n",
       "      <td>others</td>\n",
       "      <td>SP98</td>\n",
       "      <td>1</td>\n",
       "      <td>0</td>\n",
       "      <td>0</td>\n",
       "      <td>NaN</td>\n",
       "      <td>NaN</td>\n",
       "    </tr>\n",
       "  </tbody>\n",
       "</table>\n",
       "</div>"
      ],
      "text/plain": [
       "     distance  consume  speed  temp_inside  temp_outside specials gas_type  \\\n",
       "383      16.0      3.7     39         24.5            18      NaN     SP98   \n",
       "384      16.1      4.3     38         25.0            31   others     SP98   \n",
       "385      16.0      3.8     45         25.0            19      NaN     SP98   \n",
       "386      15.4      4.6     42         25.0            31   others     SP98   \n",
       "387      14.7      5.0     25         25.0            30   others     SP98   \n",
       "\n",
       "     AC  rain  sun  refill liters refill gas  \n",
       "383   0     0    0            NaN        NaN  \n",
       "384   1     0    0            NaN        NaN  \n",
       "385   0     0    0            NaN        NaN  \n",
       "386   1     0    0            NaN        NaN  \n",
       "387   1     0    0            NaN        NaN  "
      ]
     },
     "execution_count": 92,
     "metadata": {},
     "output_type": "execute_result"
    }
   ],
   "source": [
    "df.tail()"
   ]
  },
  {
   "cell_type": "code",
   "execution_count": 58,
   "id": "cccfd8cd",
   "metadata": {},
   "outputs": [
    {
     "data": {
      "text/html": [
       "<div>\n",
       "<style scoped>\n",
       "    .dataframe tbody tr th:only-of-type {\n",
       "        vertical-align: middle;\n",
       "    }\n",
       "\n",
       "    .dataframe tbody tr th {\n",
       "        vertical-align: top;\n",
       "    }\n",
       "\n",
       "    .dataframe thead th {\n",
       "        text-align: right;\n",
       "    }\n",
       "</style>\n",
       "<table border=\"1\" class=\"dataframe\">\n",
       "  <thead>\n",
       "    <tr style=\"text-align: right;\">\n",
       "      <th></th>\n",
       "      <th>count</th>\n",
       "      <th>mean</th>\n",
       "      <th>std</th>\n",
       "      <th>min</th>\n",
       "      <th>25%</th>\n",
       "      <th>50%</th>\n",
       "      <th>75%</th>\n",
       "      <th>max</th>\n",
       "    </tr>\n",
       "  </thead>\n",
       "  <tbody>\n",
       "    <tr>\n",
       "      <th>distance</th>\n",
       "      <td>388.0</td>\n",
       "      <td>19.652835</td>\n",
       "      <td>22.667837</td>\n",
       "      <td>1.3</td>\n",
       "      <td>11.80</td>\n",
       "      <td>14.6</td>\n",
       "      <td>19.0</td>\n",
       "      <td>216.1</td>\n",
       "    </tr>\n",
       "    <tr>\n",
       "      <th>consume</th>\n",
       "      <td>388.0</td>\n",
       "      <td>4.912371</td>\n",
       "      <td>1.033172</td>\n",
       "      <td>3.3</td>\n",
       "      <td>4.30</td>\n",
       "      <td>4.7</td>\n",
       "      <td>5.3</td>\n",
       "      <td>12.2</td>\n",
       "    </tr>\n",
       "    <tr>\n",
       "      <th>speed</th>\n",
       "      <td>388.0</td>\n",
       "      <td>41.927835</td>\n",
       "      <td>13.598524</td>\n",
       "      <td>14.0</td>\n",
       "      <td>32.75</td>\n",
       "      <td>40.5</td>\n",
       "      <td>50.0</td>\n",
       "      <td>90.0</td>\n",
       "    </tr>\n",
       "    <tr>\n",
       "      <th>temp_inside</th>\n",
       "      <td>376.0</td>\n",
       "      <td>21.929521</td>\n",
       "      <td>1.010455</td>\n",
       "      <td>19.0</td>\n",
       "      <td>21.50</td>\n",
       "      <td>22.0</td>\n",
       "      <td>22.5</td>\n",
       "      <td>25.5</td>\n",
       "    </tr>\n",
       "    <tr>\n",
       "      <th>temp_outside</th>\n",
       "      <td>388.0</td>\n",
       "      <td>11.358247</td>\n",
       "      <td>6.991542</td>\n",
       "      <td>-5.0</td>\n",
       "      <td>7.00</td>\n",
       "      <td>10.0</td>\n",
       "      <td>16.0</td>\n",
       "      <td>31.0</td>\n",
       "    </tr>\n",
       "    <tr>\n",
       "      <th>AC</th>\n",
       "      <td>388.0</td>\n",
       "      <td>0.077320</td>\n",
       "      <td>0.267443</td>\n",
       "      <td>0.0</td>\n",
       "      <td>0.00</td>\n",
       "      <td>0.0</td>\n",
       "      <td>0.0</td>\n",
       "      <td>1.0</td>\n",
       "    </tr>\n",
       "    <tr>\n",
       "      <th>rain</th>\n",
       "      <td>388.0</td>\n",
       "      <td>0.123711</td>\n",
       "      <td>0.329677</td>\n",
       "      <td>0.0</td>\n",
       "      <td>0.00</td>\n",
       "      <td>0.0</td>\n",
       "      <td>0.0</td>\n",
       "      <td>1.0</td>\n",
       "    </tr>\n",
       "    <tr>\n",
       "      <th>sun</th>\n",
       "      <td>388.0</td>\n",
       "      <td>0.082474</td>\n",
       "      <td>0.275441</td>\n",
       "      <td>0.0</td>\n",
       "      <td>0.00</td>\n",
       "      <td>0.0</td>\n",
       "      <td>0.0</td>\n",
       "      <td>1.0</td>\n",
       "    </tr>\n",
       "    <tr>\n",
       "      <th>refill liters</th>\n",
       "      <td>13.0</td>\n",
       "      <td>37.115385</td>\n",
       "      <td>8.587282</td>\n",
       "      <td>10.0</td>\n",
       "      <td>37.60</td>\n",
       "      <td>38.0</td>\n",
       "      <td>39.0</td>\n",
       "      <td>45.0</td>\n",
       "    </tr>\n",
       "  </tbody>\n",
       "</table>\n",
       "</div>"
      ],
      "text/plain": [
       "               count       mean        std   min    25%   50%   75%    max\n",
       "distance       388.0  19.652835  22.667837   1.3  11.80  14.6  19.0  216.1\n",
       "consume        388.0   4.912371   1.033172   3.3   4.30   4.7   5.3   12.2\n",
       "speed          388.0  41.927835  13.598524  14.0  32.75  40.5  50.0   90.0\n",
       "temp_inside    376.0  21.929521   1.010455  19.0  21.50  22.0  22.5   25.5\n",
       "temp_outside   388.0  11.358247   6.991542  -5.0   7.00  10.0  16.0   31.0\n",
       "AC             388.0   0.077320   0.267443   0.0   0.00   0.0   0.0    1.0\n",
       "rain           388.0   0.123711   0.329677   0.0   0.00   0.0   0.0    1.0\n",
       "sun            388.0   0.082474   0.275441   0.0   0.00   0.0   0.0    1.0\n",
       "refill liters   13.0  37.115385   8.587282  10.0  37.60  38.0  39.0   45.0"
      ]
     },
     "metadata": {},
     "output_type": "display_data"
    }
   ],
   "source": [
    "display(df.describe().T)"
   ]
  },
  {
   "cell_type": "code",
   "execution_count": 59,
   "id": "00d7e80d",
   "metadata": {},
   "outputs": [
    {
     "data": {
      "text/plain": [
       "(388, 12)"
      ]
     },
     "execution_count": 59,
     "metadata": {},
     "output_type": "execute_result"
    }
   ],
   "source": [
    "df.shape"
   ]
  },
  {
   "cell_type": "code",
   "execution_count": 76,
   "id": "521eeedf",
   "metadata": {},
   "outputs": [
    {
     "data": {
      "image/png": "[encoded data removed]",
      "text/plain": [
       "<Figure size 432x288 with 1 Axes>"
      ]
     },
     "metadata": {
      "needs_background": "light"
     },
     "output_type": "display_data"
    }
   ],
   "source": [
    "sns.countplot(data = df, x = \"specials\")\n",
    "plt.xticks(rotation=90)\n",
    "plt.show()"
   ]
  },
  {
   "cell_type": "code",
   "execution_count": 21,
   "id": "f72667df",
   "metadata": {},
   "outputs": [],
   "source": [
    "df['specials'] = df['specials'].fillna('others')\n",
    "df['refill liters'] = df['refill liters'].fillna(0)\n",
    "df['refill gas'] = df['refill gas'].fillna('norefill')\n"
   ]
  },
  {
   "cell_type": "code",
   "execution_count": 22,
   "id": "c6e64eb6",
   "metadata": {},
   "outputs": [
    {
     "data": {
      "text/plain": [
       "distance         0.000000\n",
       "consume          0.000000\n",
       "speed            0.000000\n",
       "temp_outside     0.000000\n",
       "specials         0.000000\n",
       "gas_type         0.000000\n",
       "AC               0.000000\n",
       "rain             0.000000\n",
       "sun              0.000000\n",
       "refill liters    0.000000\n",
       "refill gas       0.000000\n",
       "temp_inside      0.030928\n",
       "dtype: float64"
      ]
     },
     "execution_count": 22,
     "metadata": {},
     "output_type": "execute_result"
    }
   ],
   "source": [
    "(df.isna().sum()/len(data)).sort_values()"
   ]
  },
  {
   "cell_type": "code",
   "execution_count": 23,
   "id": "b4d407f5",
   "metadata": {},
   "outputs": [
    {
     "data": {
      "text/plain": [
       "21.5    133\n",
       "22.0    102\n",
       "22.5     59\n",
       "20.0     25\n",
       "21.0     13\n",
       "23.0     13\n",
       "25.0     12\n",
       "24.5      7\n",
       "20.5      4\n",
       "24.0      3\n",
       "23.5      2\n",
       "25.5      2\n",
       "19.0      1\n",
       "Name: temp_inside, dtype: int64"
      ]
     },
     "execution_count": 23,
     "metadata": {},
     "output_type": "execute_result"
    }
   ],
   "source": [
    "df['temp_inside'].value_counts()"
   ]
  },
  {
   "cell_type": "code",
   "execution_count": 24,
   "id": "d55a3ba3",
   "metadata": {},
   "outputs": [
    {
     "data": {
      "text/plain": [
       "count    376.000000\n",
       "mean      21.929522\n",
       "std        1.010455\n",
       "min       19.000000\n",
       "25%       21.500000\n",
       "50%       22.000000\n",
       "75%       22.500000\n",
       "max       25.500000\n",
       "Name: temp_inside, dtype: float64"
      ]
     },
     "execution_count": 24,
     "metadata": {},
     "output_type": "execute_result"
    }
   ],
   "source": [
    "df['temp_inside'].describe(include=\"all\") "
   ]
  },
  {
   "cell_type": "code",
   "execution_count": 25,
   "id": "9b2d433c",
   "metadata": {},
   "outputs": [
    {
     "data": {
      "text/plain": [
       "<AxesSubplot:xlabel='temp_inside', ylabel='Density'>"
      ]
     },
     "execution_count": 25,
     "metadata": {},
     "output_type": "execute_result"
    },
    {
     "data": {
      "image/png": "[encoded data removed]",
      "text/plain": [
       "<Figure size 432x288 with 1 Axes>"
      ]
     },
     "metadata": {
      "needs_background": "light"
     },
     "output_type": "display_data"
    }
   ],
   "source": [
    "import seaborn as sns\n",
    "sns.distplot(df['temp_inside'])"
   ]
  },
  {
   "cell_type": "code",
   "execution_count": 26,
   "id": "829eabec",
   "metadata": {},
   "outputs": [],
   "source": [
    "df['temp_inside'] = df['temp_inside'].fillna(df['temp_inside'].mean())"
   ]
  },
  {
   "cell_type": "code",
   "execution_count": 27,
   "id": "6693bfc3",
   "metadata": {},
   "outputs": [
    {
     "data": {
      "text/plain": [
       "distance         0.0\n",
       "consume          0.0\n",
       "speed            0.0\n",
       "temp_inside      0.0\n",
       "temp_outside     0.0\n",
       "specials         0.0\n",
       "gas_type         0.0\n",
       "AC               0.0\n",
       "rain             0.0\n",
       "sun              0.0\n",
       "refill liters    0.0\n",
       "refill gas       0.0\n",
       "dtype: float64"
      ]
     },
     "execution_count": 27,
     "metadata": {},
     "output_type": "execute_result"
    }
   ],
   "source": [
    "(df.isna().sum()/len(data)).sort_values()"
   ]
  },
  {
   "cell_type": "code",
   "execution_count": 28,
   "id": "8bbedacb",
   "metadata": {},
   "outputs": [
    {
     "data": {
      "text/plain": [
       "(388, 12)"
      ]
     },
     "execution_count": 28,
     "metadata": {},
     "output_type": "execute_result"
    }
   ],
   "source": [
    "df.shape"
   ]
  },
  {
   "cell_type": "code",
   "execution_count": 29,
   "id": "fa89d4d1",
   "metadata": {},
   "outputs": [
    {
     "data": {
      "image/png": "[encoded data removed]",
      "text/plain": [
       "<Figure size 1440x576 with 2 Axes>"
      ]
     },
     "metadata": {
      "needs_background": "light"
     },
     "output_type": "display_data"
    }
   ],
   "source": [
    "corr_matrix=df.corr(method='pearson')   \n",
    "fig, ax = plt.subplots(figsize=(20, 8))\n",
    "ax = sns.heatmap(corr_matrix, annot=True)\n",
    "plt.show()"
   ]
  },
  {
   "cell_type": "code",
   "execution_count": 30,
   "id": "d106f232",
   "metadata": {},
   "outputs": [],
   "source": [
    "y = df['consume']\n",
    "X = df.drop(['consume'], axis=1)"
   ]
  },
  {
   "cell_type": "code",
   "execution_count": 31,
   "id": "4c1660c2",
   "metadata": {},
   "outputs": [],
   "source": [
    " \n",
    "X_train, X_test, y_train, y_test = train_test_split(X, y, test_size=0.2, random_state=42)"
   ]
  },
  {
   "cell_type": "code",
   "execution_count": 32,
   "id": "25dff9d4",
   "metadata": {},
   "outputs": [],
   "source": [
    "#categorical features and numerical ones are going to be treated differently\n",
    "X_train_num = X_train.select_dtypes(include = np.number)\n",
    "X_train_cat = X_train.select_dtypes(include = object)\n",
    "X_test_num = X_test.select_dtypes(include = np.number)\n",
    "X_test_cat = X_test.select_dtypes(include = object)"
   ]
  },
  {
   "cell_type": "code",
   "execution_count": 33,
   "id": "c81f3c90",
   "metadata": {},
   "outputs": [
    {
     "data": {
      "text/html": [
       "<div>\n",
       "<style scoped>\n",
       "    .dataframe tbody tr th:only-of-type {\n",
       "        vertical-align: middle;\n",
       "    }\n",
       "\n",
       "    .dataframe tbody tr th {\n",
       "        vertical-align: top;\n",
       "    }\n",
       "\n",
       "    .dataframe thead th {\n",
       "        text-align: right;\n",
       "    }\n",
       "</style>\n",
       "<table border=\"1\" class=\"dataframe\">\n",
       "  <thead>\n",
       "    <tr style=\"text-align: right;\">\n",
       "      <th></th>\n",
       "      <th>count</th>\n",
       "      <th>mean</th>\n",
       "      <th>std</th>\n",
       "      <th>min</th>\n",
       "      <th>25%</th>\n",
       "      <th>50%</th>\n",
       "      <th>75%</th>\n",
       "      <th>max</th>\n",
       "    </tr>\n",
       "  </thead>\n",
       "  <tbody>\n",
       "    <tr>\n",
       "      <th>distance</th>\n",
       "      <td>310.0</td>\n",
       "      <td>19.564516</td>\n",
       "      <td>21.168934</td>\n",
       "      <td>1.3</td>\n",
       "      <td>11.8</td>\n",
       "      <td>15.4</td>\n",
       "      <td>19.45</td>\n",
       "      <td>216.100006</td>\n",
       "    </tr>\n",
       "    <tr>\n",
       "      <th>speed</th>\n",
       "      <td>310.0</td>\n",
       "      <td>42.070968</td>\n",
       "      <td>13.507093</td>\n",
       "      <td>14.0</td>\n",
       "      <td>33.0</td>\n",
       "      <td>41.0</td>\n",
       "      <td>50.00</td>\n",
       "      <td>90.000000</td>\n",
       "    </tr>\n",
       "    <tr>\n",
       "      <th>temp_inside</th>\n",
       "      <td>310.0</td>\n",
       "      <td>21.952568</td>\n",
       "      <td>0.974350</td>\n",
       "      <td>19.0</td>\n",
       "      <td>21.5</td>\n",
       "      <td>22.0</td>\n",
       "      <td>22.50</td>\n",
       "      <td>25.500000</td>\n",
       "    </tr>\n",
       "    <tr>\n",
       "      <th>temp_outside</th>\n",
       "      <td>310.0</td>\n",
       "      <td>11.458065</td>\n",
       "      <td>7.084546</td>\n",
       "      <td>-5.0</td>\n",
       "      <td>7.0</td>\n",
       "      <td>10.0</td>\n",
       "      <td>16.00</td>\n",
       "      <td>31.000000</td>\n",
       "    </tr>\n",
       "    <tr>\n",
       "      <th>AC</th>\n",
       "      <td>310.0</td>\n",
       "      <td>0.067742</td>\n",
       "      <td>0.251709</td>\n",
       "      <td>0.0</td>\n",
       "      <td>0.0</td>\n",
       "      <td>0.0</td>\n",
       "      <td>0.00</td>\n",
       "      <td>1.000000</td>\n",
       "    </tr>\n",
       "    <tr>\n",
       "      <th>rain</th>\n",
       "      <td>310.0</td>\n",
       "      <td>0.125806</td>\n",
       "      <td>0.332167</td>\n",
       "      <td>0.0</td>\n",
       "      <td>0.0</td>\n",
       "      <td>0.0</td>\n",
       "      <td>0.00</td>\n",
       "      <td>1.000000</td>\n",
       "    </tr>\n",
       "    <tr>\n",
       "      <th>sun</th>\n",
       "      <td>310.0</td>\n",
       "      <td>0.090323</td>\n",
       "      <td>0.287107</td>\n",
       "      <td>0.0</td>\n",
       "      <td>0.0</td>\n",
       "      <td>0.0</td>\n",
       "      <td>0.00</td>\n",
       "      <td>1.000000</td>\n",
       "    </tr>\n",
       "    <tr>\n",
       "      <th>refill liters</th>\n",
       "      <td>310.0</td>\n",
       "      <td>1.047097</td>\n",
       "      <td>6.278092</td>\n",
       "      <td>0.0</td>\n",
       "      <td>0.0</td>\n",
       "      <td>0.0</td>\n",
       "      <td>0.00</td>\n",
       "      <td>45.000000</td>\n",
       "    </tr>\n",
       "  </tbody>\n",
       "</table>\n",
       "</div>"
      ],
      "text/plain": [
       "               count       mean        std   min   25%   50%    75%  \\\n",
       "distance       310.0  19.564516  21.168934   1.3  11.8  15.4  19.45   \n",
       "speed          310.0  42.070968  13.507093  14.0  33.0  41.0  50.00   \n",
       "temp_inside    310.0  21.952568   0.974350  19.0  21.5  22.0  22.50   \n",
       "temp_outside   310.0  11.458065   7.084546  -5.0   7.0  10.0  16.00   \n",
       "AC             310.0   0.067742   0.251709   0.0   0.0   0.0   0.00   \n",
       "rain           310.0   0.125806   0.332167   0.0   0.0   0.0   0.00   \n",
       "sun            310.0   0.090323   0.287107   0.0   0.0   0.0   0.00   \n",
       "refill liters  310.0   1.047097   6.278092   0.0   0.0   0.0   0.00   \n",
       "\n",
       "                      max  \n",
       "distance       216.100006  \n",
       "speed           90.000000  \n",
       "temp_inside     25.500000  \n",
       "temp_outside    31.000000  \n",
       "AC               1.000000  \n",
       "rain             1.000000  \n",
       "sun              1.000000  \n",
       "refill liters   45.000000  "
      ]
     },
     "execution_count": 33,
     "metadata": {},
     "output_type": "execute_result"
    }
   ],
   "source": [
    "X_train_num.describe().T"
   ]
  },
  {
   "cell_type": "code",
   "execution_count": 34,
   "id": "395227f8",
   "metadata": {},
   "outputs": [
    {
     "name": "stdout",
     "output_type": "stream",
     "text": [
      "<class 'numpy.ndarray'>\n"
     ]
    },
    {
     "data": {
      "text/html": [
       "<div>\n",
       "<style scoped>\n",
       "    .dataframe tbody tr th:only-of-type {\n",
       "        vertical-align: middle;\n",
       "    }\n",
       "\n",
       "    .dataframe tbody tr th {\n",
       "        vertical-align: top;\n",
       "    }\n",
       "\n",
       "    .dataframe thead th {\n",
       "        text-align: right;\n",
       "    }\n",
       "</style>\n",
       "<table border=\"1\" class=\"dataframe\">\n",
       "  <thead>\n",
       "    <tr style=\"text-align: right;\">\n",
       "      <th></th>\n",
       "      <th>distance</th>\n",
       "      <th>speed</th>\n",
       "      <th>temp_inside</th>\n",
       "      <th>temp_outside</th>\n",
       "      <th>AC</th>\n",
       "      <th>rain</th>\n",
       "      <th>sun</th>\n",
       "      <th>refill liters</th>\n",
       "    </tr>\n",
       "  </thead>\n",
       "  <tbody>\n",
       "    <tr>\n",
       "      <th>0</th>\n",
       "      <td>0.025605</td>\n",
       "      <td>0.157895</td>\n",
       "      <td>0.384615</td>\n",
       "      <td>0.305556</td>\n",
       "      <td>0.0</td>\n",
       "      <td>0.0</td>\n",
       "      <td>0.0</td>\n",
       "      <td>0.0</td>\n",
       "    </tr>\n",
       "    <tr>\n",
       "      <th>1</th>\n",
       "      <td>0.048883</td>\n",
       "      <td>0.342105</td>\n",
       "      <td>0.538462</td>\n",
       "      <td>0.194444</td>\n",
       "      <td>0.0</td>\n",
       "      <td>0.0</td>\n",
       "      <td>0.0</td>\n",
       "      <td>0.0</td>\n",
       "    </tr>\n",
       "    <tr>\n",
       "      <th>2</th>\n",
       "      <td>0.068901</td>\n",
       "      <td>0.250000</td>\n",
       "      <td>0.384615</td>\n",
       "      <td>0.305556</td>\n",
       "      <td>0.0</td>\n",
       "      <td>0.0</td>\n",
       "      <td>0.0</td>\n",
       "      <td>0.0</td>\n",
       "    </tr>\n",
       "    <tr>\n",
       "      <th>3</th>\n",
       "      <td>0.115922</td>\n",
       "      <td>0.750000</td>\n",
       "      <td>0.307692</td>\n",
       "      <td>0.361111</td>\n",
       "      <td>1.0</td>\n",
       "      <td>1.0</td>\n",
       "      <td>0.0</td>\n",
       "      <td>0.0</td>\n",
       "    </tr>\n",
       "    <tr>\n",
       "      <th>4</th>\n",
       "      <td>0.068436</td>\n",
       "      <td>0.421053</td>\n",
       "      <td>0.461538</td>\n",
       "      <td>0.611111</td>\n",
       "      <td>0.0</td>\n",
       "      <td>0.0</td>\n",
       "      <td>0.0</td>\n",
       "      <td>0.0</td>\n",
       "    </tr>\n",
       "  </tbody>\n",
       "</table>\n",
       "</div>"
      ],
      "text/plain": [
       "   distance     speed  temp_inside  temp_outside   AC  rain  sun  \\\n",
       "0  0.025605  0.157895     0.384615      0.305556  0.0   0.0  0.0   \n",
       "1  0.048883  0.342105     0.538462      0.194444  0.0   0.0  0.0   \n",
       "2  0.068901  0.250000     0.384615      0.305556  0.0   0.0  0.0   \n",
       "3  0.115922  0.750000     0.307692      0.361111  1.0   1.0  0.0   \n",
       "4  0.068436  0.421053     0.461538      0.611111  0.0   0.0  0.0   \n",
       "\n",
       "   refill liters  \n",
       "0            0.0  \n",
       "1            0.0  \n",
       "2            0.0  \n",
       "3            0.0  \n",
       "4            0.0  "
      ]
     },
     "metadata": {},
     "output_type": "display_data"
    },
    {
     "name": "stdout",
     "output_type": "stream",
     "text": [
      "<class 'pandas.core.frame.DataFrame'>\n"
     ]
    }
   ],
   "source": [
    " \n",
    "MinMaxtransformer = MinMaxScaler().fit(X_train_num)\n",
    "X_normalized = MinMaxtransformer.transform(X_train_num)\n",
    "print(type(X_normalized))\n",
    "X_normalized = pd.DataFrame(X_normalized,columns=X_train_num.columns)\n",
    "display(X_normalized.head())\n",
    "print(type(X_normalized))"
   ]
  },
  {
   "cell_type": "code",
   "execution_count": 35,
   "id": "272c882c",
   "metadata": {},
   "outputs": [
    {
     "name": "stdout",
     "output_type": "stream",
     "text": [
      "<class 'pandas.core.frame.DataFrame'>\n"
     ]
    },
    {
     "data": {
      "text/html": [
       "<div>\n",
       "<style scoped>\n",
       "    .dataframe tbody tr th:only-of-type {\n",
       "        vertical-align: middle;\n",
       "    }\n",
       "\n",
       "    .dataframe tbody tr th {\n",
       "        vertical-align: top;\n",
       "    }\n",
       "\n",
       "    .dataframe thead th {\n",
       "        text-align: right;\n",
       "    }\n",
       "</style>\n",
       "<table border=\"1\" class=\"dataframe\">\n",
       "  <thead>\n",
       "    <tr style=\"text-align: right;\">\n",
       "      <th></th>\n",
       "      <th>distance</th>\n",
       "      <th>speed</th>\n",
       "      <th>temp_inside</th>\n",
       "      <th>temp_outside</th>\n",
       "      <th>AC</th>\n",
       "      <th>rain</th>\n",
       "      <th>sun</th>\n",
       "      <th>refill liters</th>\n",
       "    </tr>\n",
       "  </thead>\n",
       "  <tbody>\n",
       "    <tr>\n",
       "      <th>0</th>\n",
       "      <td>0.013501</td>\n",
       "      <td>0.236842</td>\n",
       "      <td>0.461538</td>\n",
       "      <td>0.638889</td>\n",
       "      <td>0.0</td>\n",
       "      <td>0.0</td>\n",
       "      <td>0.0</td>\n",
       "      <td>0.000000</td>\n",
       "    </tr>\n",
       "    <tr>\n",
       "      <th>1</th>\n",
       "      <td>0.060056</td>\n",
       "      <td>0.236842</td>\n",
       "      <td>0.384615</td>\n",
       "      <td>0.333333</td>\n",
       "      <td>0.0</td>\n",
       "      <td>0.0</td>\n",
       "      <td>0.0</td>\n",
       "      <td>0.000000</td>\n",
       "    </tr>\n",
       "    <tr>\n",
       "      <th>2</th>\n",
       "      <td>0.051210</td>\n",
       "      <td>0.342105</td>\n",
       "      <td>0.384615</td>\n",
       "      <td>0.305556</td>\n",
       "      <td>0.0</td>\n",
       "      <td>0.0</td>\n",
       "      <td>0.0</td>\n",
       "      <td>0.000000</td>\n",
       "    </tr>\n",
       "    <tr>\n",
       "      <th>3</th>\n",
       "      <td>0.048417</td>\n",
       "      <td>0.302632</td>\n",
       "      <td>0.384615</td>\n",
       "      <td>0.305556</td>\n",
       "      <td>0.0</td>\n",
       "      <td>0.0</td>\n",
       "      <td>0.0</td>\n",
       "      <td>0.000000</td>\n",
       "    </tr>\n",
       "    <tr>\n",
       "      <th>4</th>\n",
       "      <td>0.079143</td>\n",
       "      <td>0.421053</td>\n",
       "      <td>0.461538</td>\n",
       "      <td>0.583333</td>\n",
       "      <td>0.0</td>\n",
       "      <td>0.0</td>\n",
       "      <td>0.0</td>\n",
       "      <td>0.826667</td>\n",
       "    </tr>\n",
       "  </tbody>\n",
       "</table>\n",
       "</div>"
      ],
      "text/plain": [
       "   distance     speed  temp_inside  temp_outside   AC  rain  sun  \\\n",
       "0  0.013501  0.236842     0.461538      0.638889  0.0   0.0  0.0   \n",
       "1  0.060056  0.236842     0.384615      0.333333  0.0   0.0  0.0   \n",
       "2  0.051210  0.342105     0.384615      0.305556  0.0   0.0  0.0   \n",
       "3  0.048417  0.302632     0.384615      0.305556  0.0   0.0  0.0   \n",
       "4  0.079143  0.421053     0.461538      0.583333  0.0   0.0  0.0   \n",
       "\n",
       "   refill liters  \n",
       "0       0.000000  \n",
       "1       0.000000  \n",
       "2       0.000000  \n",
       "3       0.000000  \n",
       "4       0.826667  "
      ]
     },
     "metadata": {},
     "output_type": "display_data"
    },
    {
     "name": "stdout",
     "output_type": "stream",
     "text": [
      "<class 'pandas.core.frame.DataFrame'>\n"
     ]
    }
   ],
   "source": [
    " \n",
    "\n",
    "X_test_normalized = MinMaxtransformer.transform(X_test_num)\n",
    "print(type(X_normalized))\n",
    "X_test_normalized = pd.DataFrame(X_test_normalized,columns=X_test_num.columns)\n",
    "display(X_test_normalized.head())\n",
    "print(type(X_test_normalized))"
   ]
  },
  {
   "cell_type": "code",
   "execution_count": 36,
   "id": "b5de373d",
   "metadata": {},
   "outputs": [
    {
     "data": {
      "text/html": [
       "<div>\n",
       "<style scoped>\n",
       "    .dataframe tbody tr th:only-of-type {\n",
       "        vertical-align: middle;\n",
       "    }\n",
       "\n",
       "    .dataframe tbody tr th {\n",
       "        vertical-align: top;\n",
       "    }\n",
       "\n",
       "    .dataframe thead th {\n",
       "        text-align: right;\n",
       "    }\n",
       "</style>\n",
       "<table border=\"1\" class=\"dataframe\">\n",
       "  <thead>\n",
       "    <tr style=\"text-align: right;\">\n",
       "      <th></th>\n",
       "      <th>specials_rain</th>\n",
       "      <th>specials_snow</th>\n",
       "      <th>specials_sun</th>\n",
       "      <th>specials_unknown</th>\n",
       "      <th>gas_type_SP98</th>\n",
       "      <th>refill gas_SP98</th>\n",
       "      <th>refill gas_norefill</th>\n",
       "    </tr>\n",
       "  </thead>\n",
       "  <tbody>\n",
       "    <tr>\n",
       "      <th>0</th>\n",
       "      <td>0.0</td>\n",
       "      <td>0.0</td>\n",
       "      <td>0.0</td>\n",
       "      <td>0.0</td>\n",
       "      <td>1.0</td>\n",
       "      <td>0.0</td>\n",
       "      <td>1.0</td>\n",
       "    </tr>\n",
       "    <tr>\n",
       "      <th>1</th>\n",
       "      <td>0.0</td>\n",
       "      <td>0.0</td>\n",
       "      <td>0.0</td>\n",
       "      <td>0.0</td>\n",
       "      <td>0.0</td>\n",
       "      <td>0.0</td>\n",
       "      <td>1.0</td>\n",
       "    </tr>\n",
       "    <tr>\n",
       "      <th>2</th>\n",
       "      <td>0.0</td>\n",
       "      <td>0.0</td>\n",
       "      <td>0.0</td>\n",
       "      <td>0.0</td>\n",
       "      <td>1.0</td>\n",
       "      <td>0.0</td>\n",
       "      <td>1.0</td>\n",
       "    </tr>\n",
       "    <tr>\n",
       "      <th>3</th>\n",
       "      <td>1.0</td>\n",
       "      <td>0.0</td>\n",
       "      <td>0.0</td>\n",
       "      <td>0.0</td>\n",
       "      <td>1.0</td>\n",
       "      <td>0.0</td>\n",
       "      <td>1.0</td>\n",
       "    </tr>\n",
       "    <tr>\n",
       "      <th>4</th>\n",
       "      <td>0.0</td>\n",
       "      <td>0.0</td>\n",
       "      <td>0.0</td>\n",
       "      <td>0.0</td>\n",
       "      <td>1.0</td>\n",
       "      <td>0.0</td>\n",
       "      <td>1.0</td>\n",
       "    </tr>\n",
       "  </tbody>\n",
       "</table>\n",
       "</div>"
      ],
      "text/plain": [
       "   specials_rain  specials_snow  specials_sun  specials_unknown  \\\n",
       "0            0.0            0.0           0.0               0.0   \n",
       "1            0.0            0.0           0.0               0.0   \n",
       "2            0.0            0.0           0.0               0.0   \n",
       "3            1.0            0.0           0.0               0.0   \n",
       "4            0.0            0.0           0.0               0.0   \n",
       "\n",
       "   gas_type_SP98  refill gas_SP98  refill gas_norefill  \n",
       "0            1.0              0.0                  1.0  \n",
       "1            0.0              0.0                  1.0  \n",
       "2            1.0              0.0                  1.0  \n",
       "3            1.0              0.0                  1.0  \n",
       "4            1.0              0.0                  1.0  "
      ]
     },
     "execution_count": 36,
     "metadata": {},
     "output_type": "execute_result"
    }
   ],
   "source": [
    " \n",
    "encoder = OneHotEncoder(drop='first').fit(X_train_cat)\n",
    "encoded = encoder.transform(X_train_cat).toarray()\n",
    "cols = encoder.get_feature_names(input_features=X_train_cat.columns)\n",
    "X_train_cat_encoded = pd.DataFrame(encoded, columns=cols)\n",
    "X_train_cat_encoded.head()"
   ]
  },
  {
   "cell_type": "code",
   "execution_count": 37,
   "id": "651b2f75",
   "metadata": {},
   "outputs": [
    {
     "data": {
      "text/html": [
       "<div>\n",
       "<style scoped>\n",
       "    .dataframe tbody tr th:only-of-type {\n",
       "        vertical-align: middle;\n",
       "    }\n",
       "\n",
       "    .dataframe tbody tr th {\n",
       "        vertical-align: top;\n",
       "    }\n",
       "\n",
       "    .dataframe thead th {\n",
       "        text-align: right;\n",
       "    }\n",
       "</style>\n",
       "<table border=\"1\" class=\"dataframe\">\n",
       "  <thead>\n",
       "    <tr style=\"text-align: right;\">\n",
       "      <th></th>\n",
       "      <th>specials_rain</th>\n",
       "      <th>specials_snow</th>\n",
       "      <th>specials_sun</th>\n",
       "      <th>specials_unknown</th>\n",
       "      <th>gas_type_SP98</th>\n",
       "      <th>refill gas_SP98</th>\n",
       "      <th>refill gas_norefill</th>\n",
       "    </tr>\n",
       "  </thead>\n",
       "  <tbody>\n",
       "    <tr>\n",
       "      <th>0</th>\n",
       "      <td>0.0</td>\n",
       "      <td>0.0</td>\n",
       "      <td>0.0</td>\n",
       "      <td>0.0</td>\n",
       "      <td>0.0</td>\n",
       "      <td>0.0</td>\n",
       "      <td>1.0</td>\n",
       "    </tr>\n",
       "    <tr>\n",
       "      <th>1</th>\n",
       "      <td>0.0</td>\n",
       "      <td>0.0</td>\n",
       "      <td>0.0</td>\n",
       "      <td>0.0</td>\n",
       "      <td>1.0</td>\n",
       "      <td>0.0</td>\n",
       "      <td>1.0</td>\n",
       "    </tr>\n",
       "    <tr>\n",
       "      <th>2</th>\n",
       "      <td>0.0</td>\n",
       "      <td>0.0</td>\n",
       "      <td>0.0</td>\n",
       "      <td>0.0</td>\n",
       "      <td>0.0</td>\n",
       "      <td>0.0</td>\n",
       "      <td>1.0</td>\n",
       "    </tr>\n",
       "    <tr>\n",
       "      <th>3</th>\n",
       "      <td>0.0</td>\n",
       "      <td>0.0</td>\n",
       "      <td>0.0</td>\n",
       "      <td>0.0</td>\n",
       "      <td>0.0</td>\n",
       "      <td>0.0</td>\n",
       "      <td>1.0</td>\n",
       "    </tr>\n",
       "    <tr>\n",
       "      <th>4</th>\n",
       "      <td>0.0</td>\n",
       "      <td>0.0</td>\n",
       "      <td>0.0</td>\n",
       "      <td>0.0</td>\n",
       "      <td>1.0</td>\n",
       "      <td>1.0</td>\n",
       "      <td>0.0</td>\n",
       "    </tr>\n",
       "  </tbody>\n",
       "</table>\n",
       "</div>"
      ],
      "text/plain": [
       "   specials_rain  specials_snow  specials_sun  specials_unknown  \\\n",
       "0            0.0            0.0           0.0               0.0   \n",
       "1            0.0            0.0           0.0               0.0   \n",
       "2            0.0            0.0           0.0               0.0   \n",
       "3            0.0            0.0           0.0               0.0   \n",
       "4            0.0            0.0           0.0               0.0   \n",
       "\n",
       "   gas_type_SP98  refill gas_SP98  refill gas_norefill  \n",
       "0            0.0              0.0                  1.0  \n",
       "1            1.0              0.0                  1.0  \n",
       "2            0.0              0.0                  1.0  \n",
       "3            0.0              0.0                  1.0  \n",
       "4            1.0              1.0                  0.0  "
      ]
     },
     "execution_count": 37,
     "metadata": {},
     "output_type": "execute_result"
    }
   ],
   "source": [
    "from sklearn.preprocessing import OneHotEncoder\n",
    "encoded_test = encoder.transform(X_test_cat).toarray()\n",
    "cols = encoder.get_feature_names(input_features=X_test_cat.columns)\n",
    "X_test_cat_encoded = pd.DataFrame(encoded_test, columns=cols)\n",
    "X_test_cat_encoded.head()"
   ]
  },
  {
   "cell_type": "code",
   "execution_count": null,
   "id": "0be88d87",
   "metadata": {},
   "outputs": [],
   "source": []
  },
  {
   "cell_type": "code",
   "execution_count": 38,
   "id": "6557bd99",
   "metadata": {},
   "outputs": [
    {
     "data": {
      "text/plain": [
       "others     62\n",
       "rain        8\n",
       "sun         4\n",
       "unknown     3\n",
       "snow        1\n",
       "Name: specials, dtype: int64"
      ]
     },
     "execution_count": 38,
     "metadata": {},
     "output_type": "execute_result"
    }
   ],
   "source": [
    "X_test_cat['specials'].value_counts()"
   ]
  },
  {
   "cell_type": "code",
   "execution_count": 39,
   "id": "bc07a663",
   "metadata": {},
   "outputs": [],
   "source": [
    "X_train= pd.concat([X_normalized,X_train_cat_encoded], axis=1)\n",
    "X_test= pd.concat([X_test_normalized,X_test_cat_encoded], axis=1)"
   ]
  },
  {
   "cell_type": "code",
   "execution_count": 40,
   "id": "6a5dbc78",
   "metadata": {},
   "outputs": [
    {
     "data": {
      "text/plain": [
       "LinearRegression()"
      ]
     },
     "execution_count": 40,
     "metadata": {},
     "output_type": "execute_result"
    }
   ],
   "source": [
    "lm = linear_model.LinearRegression()\n",
    "lm.fit(X_train,y_train)"
   ]
  },
  {
   "cell_type": "code",
   "execution_count": 41,
   "id": "2a3ea7db",
   "metadata": {},
   "outputs": [
    {
     "data": {
      "text/plain": [
       "0.34275671023940957"
      ]
     },
     "execution_count": 41,
     "metadata": {},
     "output_type": "execute_result"
    }
   ],
   "source": [
    " \n",
    "predictions = lm.predict(X_train)\n",
    "r2_score(y_train, predictions)"
   ]
  },
  {
   "cell_type": "code",
   "execution_count": 42,
   "id": "cf1253d9",
   "metadata": {},
   "outputs": [],
   "source": [
    "def models_automation(models, X_tr, y_tr, X_te, y_te):\n",
    "    for model in models:\n",
    "        model.fit(X_train, y_train)\n",
    "        print(f\"{model.__class__.__name__}: Train -> {model.score(X_train, y_train)}, Test -> {model.score(X_test, y_test)}\")\n",
    "    return"
   ]
  },
  {
   "cell_type": "code",
   "execution_count": 43,
   "id": "752f57f0",
   "metadata": {},
   "outputs": [
    {
     "name": "stdout",
     "output_type": "stream",
     "text": [
      "LinearRegression: Train -> 0.34275671023940957, Test -> 0.1232699367545056\n",
      "SGDRegressor: Train -> 0.10168014262981484, Test -> 0.0304290855111069\n",
      "DecisionTreeRegressor: Train -> 0.9995763863509102, Test -> 0.017025130472125283\n",
      "KNeighborsRegressor: Train -> 0.4819957215085603, Test -> 0.20618195370272174\n",
      "RandomForestRegressor: Train -> 0.9412986166425742, Test -> 0.5541403739907222\n",
      "SGDRegressor: Train -> 0.09921610396277303, Test -> 0.02598686478587675\n",
      "AdaBoostRegressor: Train -> 0.7495269584355322, Test -> 0.3264930051476399\n"
     ]
    }
   ],
   "source": [
    "models = [LinearRegression(),SGDRegressor(), DecisionTreeRegressor(), KNeighborsRegressor(), RandomForestRegressor(),\n",
    "          SGDRegressor(),AdaBoostRegressor()]\n",
    "\n",
    "models_automation(models, X_train, y_train, X_test, y_test)"
   ]
  }
 ],
 "metadata": {
  "kernelspec": {
   "display_name": "Python 3",
   "language": "python",
   "name": "python3"
  },
  "language_info": {
   "codemirror_mode": {
    "name": "ipython",
    "version": 3
   },
   "file_extension": ".py",
   "mimetype": "text/x-python",
   "name": "python",
   "nbconvert_exporter": "python",
   "pygments_lexer": "ipython3",
   "version": "3.9.12"
  },
  "toc": {
   "base_numbering": 1,
   "nav_menu": {},
   "number_sections": true,
   "sideBar": true,
   "skip_h1_title": false,
   "title_cell": "Table of Contents",
   "title_sidebar": "Contents",
   "toc_cell": false,
   "toc_position": {},
   "toc_section_display": true,
   "toc_window_display": false
  }
 },
 "nbformat": 4,
 "nbformat_minor": 5
}
